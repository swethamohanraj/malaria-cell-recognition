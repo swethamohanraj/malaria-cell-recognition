{
  "cells": [
    {
      "cell_type": "code",
      "execution_count": null,
      "id": "95224820",
      "metadata": {
        "id": "95224820",
        "outputId": "f9e0ec1a-347e-4c82-f81b-4302484eb089"
      },
      "outputs": [
        {
          "name": "stdout",
          "output_type": "stream",
          "text": [
            "Requirement already satisfied: seaborn in /usr/local/lib/python3.10/dist-packages (0.13.0)\n",
            "Requirement already satisfied: numpy!=1.24.0,>=1.20 in /usr/local/lib/python3.10/dist-packages (from seaborn) (1.22.2)\n",
            "Requirement already satisfied: pandas>=1.2 in /usr/local/lib/python3.10/dist-packages (from seaborn) (1.5.3)\n",
            "Requirement already satisfied: matplotlib!=3.6.1,>=3.3 in /usr/local/lib/python3.10/dist-packages (from seaborn) (3.8.1)\n",
            "Requirement already satisfied: contourpy>=1.0.1 in /usr/local/lib/python3.10/dist-packages (from matplotlib!=3.6.1,>=3.3->seaborn) (1.2.0)\n",
            "Requirement already satisfied: cycler>=0.10 in /usr/local/lib/python3.10/dist-packages (from matplotlib!=3.6.1,>=3.3->seaborn) (0.12.1)\n",
            "Requirement already satisfied: fonttools>=4.22.0 in /usr/local/lib/python3.10/dist-packages (from matplotlib!=3.6.1,>=3.3->seaborn) (4.44.0)\n",
            "Requirement already satisfied: kiwisolver>=1.3.1 in /usr/local/lib/python3.10/dist-packages (from matplotlib!=3.6.1,>=3.3->seaborn) (1.4.5)\n",
            "Requirement already satisfied: packaging>=20.0 in /usr/local/lib/python3.10/dist-packages (from matplotlib!=3.6.1,>=3.3->seaborn) (23.1)\n",
            "Requirement already satisfied: pillow>=8 in /usr/local/lib/python3.10/dist-packages (from matplotlib!=3.6.1,>=3.3->seaborn) (10.0.1)\n",
            "Requirement already satisfied: pyparsing>=2.3.1 in /usr/local/lib/python3.10/dist-packages (from matplotlib!=3.6.1,>=3.3->seaborn) (3.1.1)\n",
            "Requirement already satisfied: python-dateutil>=2.7 in /usr/local/lib/python3.10/dist-packages (from matplotlib!=3.6.1,>=3.3->seaborn) (2.8.2)\n",
            "Requirement already satisfied: pytz>=2020.1 in /usr/local/lib/python3.10/dist-packages (from pandas>=1.2->seaborn) (2023.3)\n",
            "Requirement already satisfied: six>=1.5 in /usr/local/lib/python3.10/dist-packages (from python-dateutil>=2.7->matplotlib!=3.6.1,>=3.3->seaborn) (1.16.0)\n",
            "\u001b[33mWARNING: Running pip as the 'root' user can result in broken permissions and conflicting behaviour with the system package manager. It is recommended to use a virtual environment instead: https://pip.pypa.io/warnings/venv\u001b[0m\u001b[33m\n",
            "\u001b[0mNote: you may need to restart the kernel to use updated packages.\n"
          ]
        }
      ],
      "source": [
        "pip install seaborn"
      ]
    },
    {
      "cell_type": "code",
      "execution_count": null,
      "id": "9b2cd273",
      "metadata": {
        "id": "9b2cd273",
        "outputId": "e707e41e-afb7-4dee-eb6d-5b091a867c47"
      },
      "outputs": [
        {
          "name": "stderr",
          "output_type": "stream",
          "text": [
            "2023-11-07 04:56:22.928204: I tensorflow/core/util/port.cc:110] oneDNN custom operations are on. You may see slightly different numerical results due to floating-point round-off errors from different computation orders. To turn them off, set the environment variable `TF_ENABLE_ONEDNN_OPTS=0`.\n",
            "2023-11-07 04:56:22.982271: I tensorflow/core/platform/cpu_feature_guard.cc:183] This TensorFlow binary is optimized to use available CPU instructions in performance-critical operations.\n",
            "To enable the following instructions: SSE3 SSE4.1 SSE4.2 AVX, in other operations, rebuild TensorFlow with the appropriate compiler flags.\n"
          ]
        },
        {
          "name": "stdout",
          "output_type": "stream",
          "text": [
            "Device mapping:\n",
            "/job:localhost/replica:0/task:0/device:GPU:0 -> device: 0, name: GRID A100D-80C, pci bus id: 0000:02:02.0, compute capability: 8.0\n",
            "\n"
          ]
        },
        {
          "name": "stderr",
          "output_type": "stream",
          "text": [
            "2023-11-07 04:56:24.552485: I tensorflow/compiler/xla/stream_executor/cuda/cuda_gpu_executor.cc:995] successful NUMA node read from SysFS had negative value (-1), but there must be at least one NUMA node, so returning NUMA node zero. See more at https://github.com/torvalds/linux/blob/v6.0/Documentation/ABI/testing/sysfs-bus-pci#L344-L355\n",
            "2023-11-07 04:56:24.559036: I tensorflow/compiler/xla/stream_executor/cuda/cuda_gpu_executor.cc:995] successful NUMA node read from SysFS had negative value (-1), but there must be at least one NUMA node, so returning NUMA node zero. See more at https://github.com/torvalds/linux/blob/v6.0/Documentation/ABI/testing/sysfs-bus-pci#L344-L355\n",
            "2023-11-07 04:56:24.559258: I tensorflow/compiler/xla/stream_executor/cuda/cuda_gpu_executor.cc:995] successful NUMA node read from SysFS had negative value (-1), but there must be at least one NUMA node, so returning NUMA node zero. See more at https://github.com/torvalds/linux/blob/v6.0/Documentation/ABI/testing/sysfs-bus-pci#L344-L355\n",
            "2023-11-07 04:56:24.641198: I tensorflow/compiler/xla/stream_executor/cuda/cuda_gpu_executor.cc:995] successful NUMA node read from SysFS had negative value (-1), but there must be at least one NUMA node, so returning NUMA node zero. See more at https://github.com/torvalds/linux/blob/v6.0/Documentation/ABI/testing/sysfs-bus-pci#L344-L355\n",
            "2023-11-07 04:56:24.641410: I tensorflow/compiler/xla/stream_executor/cuda/cuda_gpu_executor.cc:995] successful NUMA node read from SysFS had negative value (-1), but there must be at least one NUMA node, so returning NUMA node zero. See more at https://github.com/torvalds/linux/blob/v6.0/Documentation/ABI/testing/sysfs-bus-pci#L344-L355\n",
            "2023-11-07 04:56:24.641551: I tensorflow/compiler/xla/stream_executor/cuda/cuda_gpu_executor.cc:995] successful NUMA node read from SysFS had negative value (-1), but there must be at least one NUMA node, so returning NUMA node zero. See more at https://github.com/torvalds/linux/blob/v6.0/Documentation/ABI/testing/sysfs-bus-pci#L344-L355\n",
            "2023-11-07 04:56:24.641647: I tensorflow/core/common_runtime/gpu/gpu_device.cc:1636] Created device /job:localhost/replica:0/task:0/device:GPU:0 with 64403 MB memory:  -> device: 0, name: GRID A100D-80C, pci bus id: 0000:02:02.0, compute capability: 8.0\n"
          ]
        }
      ],
      "source": [
        "import os\n",
        "import pandas as pd\n",
        "import numpy as np\n",
        "import seaborn as sns\n",
        "import matplotlib.pyplot as plt\n",
        "from matplotlib.image import imread\n",
        "from tensorflow.keras.preprocessing.image import ImageDataGenerator\n",
        "from tensorflow import keras\n",
        "from tensorflow.keras import layers\n",
        "from tensorflow.keras import utils\n",
        "from tensorflow.keras import models\n",
        "from sklearn.metrics import classification_report,confusion_matrix\n",
        "import tensorflow as tf\n",
        "# to share the GPU resources for multiple sessions\n",
        "from tensorflow.compat.v1.keras.backend import set_session\n",
        "config = tf.compat.v1.ConfigProto()\n",
        "config.gpu_options.allow_growth = True # dynamically grow the memory used on the GPU\n",
        "config.log_device_placement = True # to log device placement (on which device the operation ran)\n",
        "sess = tf.compat.v1.Session(config=config)\n",
        "set_session(sess)\n",
        "\n",
        "%matplotlib inline"
      ]
    },
    {
      "cell_type": "code",
      "execution_count": null,
      "id": "155cd5d2",
      "metadata": {
        "id": "155cd5d2"
      },
      "outputs": [],
      "source": [
        "my_data_dir='./dataset/cell_images'"
      ]
    },
    {
      "cell_type": "code",
      "execution_count": null,
      "id": "0c8bb9d5",
      "metadata": {
        "id": "0c8bb9d5",
        "outputId": "01d87427-f9cf-4eba-c9d1-958b3dc17648"
      },
      "outputs": [
        {
          "data": {
            "text/plain": [
              "['test', 'train']"
            ]
          },
          "execution_count": 5,
          "metadata": {},
          "output_type": "execute_result"
        }
      ],
      "source": [
        "os.listdir(my_data_dir)"
      ]
    },
    {
      "cell_type": "code",
      "execution_count": null,
      "id": "bc1d155a",
      "metadata": {
        "id": "bc1d155a"
      },
      "outputs": [],
      "source": [
        "test_path = my_data_dir+'/test/'\n",
        "train_path = my_data_dir+'/train/'"
      ]
    },
    {
      "cell_type": "code",
      "execution_count": null,
      "id": "dedaecd9",
      "metadata": {
        "id": "dedaecd9",
        "outputId": "849d14f1-7752-4541-e77b-49fd26c4a4c6"
      },
      "outputs": [
        {
          "data": {
            "text/plain": [
              "['parasitized', 'uninfected']"
            ]
          },
          "execution_count": 7,
          "metadata": {},
          "output_type": "execute_result"
        }
      ],
      "source": [
        "os.listdir(train_path)"
      ]
    },
    {
      "cell_type": "code",
      "execution_count": null,
      "id": "75105274",
      "metadata": {
        "id": "75105274",
        "outputId": "c6129f4e-752f-4251-8d46-3bf469ca2431"
      },
      "outputs": [
        {
          "data": {
            "text/plain": [
              "12479"
            ]
          },
          "execution_count": 8,
          "metadata": {},
          "output_type": "execute_result"
        }
      ],
      "source": [
        "len(os.listdir(train_path+'/uninfected/'))"
      ]
    },
    {
      "cell_type": "code",
      "execution_count": null,
      "id": "d6117908",
      "metadata": {
        "id": "d6117908",
        "outputId": "0e0608d7-15ff-44e1-9277-05bd4f758eb4"
      },
      "outputs": [
        {
          "data": {
            "text/plain": [
              "12479"
            ]
          },
          "execution_count": 9,
          "metadata": {},
          "output_type": "execute_result"
        }
      ],
      "source": [
        "len(os.listdir(train_path+'/parasitized/'))"
      ]
    },
    {
      "cell_type": "code",
      "execution_count": null,
      "id": "fd6f3fc6",
      "metadata": {
        "id": "fd6f3fc6",
        "outputId": "4568bd4e-8c7c-490a-dbbd-d5e5840a6028"
      },
      "outputs": [
        {
          "data": {
            "text/plain": [
              "'C182P143NThinF_IMG_20151201_172257_cell_157.png'"
            ]
          },
          "execution_count": 10,
          "metadata": {},
          "output_type": "execute_result"
        }
      ],
      "source": [
        "os.listdir(train_path+'/parasitized')[0]"
      ]
    },
    {
      "cell_type": "code",
      "execution_count": null,
      "id": "0583b439",
      "metadata": {
        "id": "0583b439"
      },
      "outputs": [],
      "source": [
        "para_img= imread(train_path+\n",
        "                 '/parasitized/'+\n",
        "                 os.listdir(train_path+'/parasitized')[0])"
      ]
    },
    {
      "cell_type": "code",
      "execution_count": null,
      "id": "7e2d9b47",
      "metadata": {
        "id": "7e2d9b47",
        "outputId": "1d18c550-8e07-40fb-c8ad-914a79e8ccfb"
      },
      "outputs": [
        {
          "data": {
            "text/plain": [
              "<matplotlib.image.AxesImage at 0x7fce64f2f760>"
            ]
          },
          "execution_count": 12,
          "metadata": {},
          "output_type": "execute_result"
        },
        {
          "data": {
            "image/png": "[encoded data removed]",
            "text/plain": [
              "<Figure size 640x480 with 1 Axes>"
            ]
          },
          "metadata": {},
          "output_type": "display_data"
        }
      ],
      "source": [
        "plt.imshow(para_img)"
      ]
    },
    {
      "cell_type": "code",
      "execution_count": null,
      "id": "957ab1dd",
      "metadata": {
        "id": "957ab1dd"
      },
      "outputs": [],
      "source": [
        "dim1 = []\n",
        "dim2 = []\n",
        "for image_filename in os.listdir(test_path+'/uninfected'):\n",
        "    img = imread(test_path+'/uninfected'+'/'+image_filename)\n",
        "    d1,d2,colors = img.shape\n",
        "    dim1.append(d1)\n",
        "    dim2.append(d2)"
      ]
    },
    {
      "cell_type": "code",
      "execution_count": null,
      "id": "72c46540",
      "metadata": {
        "id": "72c46540",
        "outputId": "04caf592-be0e-4ae1-bbd7-00f2a6a510f1"
      },
      "outputs": [
        {
          "data": {
            "text/plain": [
              "<seaborn.axisgrid.JointGrid at 0x7fcc6d57a410>"
            ]
          },
          "execution_count": 14,
          "metadata": {},
          "output_type": "execute_result"
        },
        {
          "data": {
            "image/png": "[encoded data removed]",
            "text/plain": [
              "<Figure size 600x600 with 3 Axes>"
            ]
          },
          "metadata": {},
          "output_type": "display_data"
        }
      ],
      "source": [
        "sns.jointplot(x=dim1,y=dim2)"
      ]
    },
    {
      "cell_type": "code",
      "execution_count": null,
      "id": "9139a3e0",
      "metadata": {
        "id": "9139a3e0"
      },
      "outputs": [],
      "source": [
        "image_shape = (130,130,3)"
      ]
    },
    {
      "cell_type": "code",
      "execution_count": null,
      "id": "c31f1d9d",
      "metadata": {
        "id": "c31f1d9d",
        "outputId": "106aebd1-e459-4e2e-86ff-69e5aae22970"
      },
      "outputs": [
        {
          "name": "stdout",
          "output_type": "stream",
          "text": [
            "Help on class ImageDataGenerator in module keras.src.preprocessing.image:\n",
            "\n",
            "class ImageDataGenerator(builtins.object)\n",
            " |  ImageDataGenerator(featurewise_center=False, samplewise_center=False, featurewise_std_normalization=False, samplewise_std_normalization=False, zca_whitening=False, zca_epsilon=1e-06, rotation_range=0, width_shift_range=0.0, height_shift_range=0.0, brightness_range=None, shear_range=0.0, zoom_range=0.0, channel_shift_range=0.0, fill_mode='nearest', cval=0.0, horizontal_flip=False, vertical_flip=False, rescale=None, preprocessing_function=None, data_format=None, validation_split=0.0, interpolation_order=1, dtype=None)\n",
            " |  \n",
            " |  Generate batches of tensor image data with real-time data augmentation.\n",
            " |  \n",
            " |  Deprecated: `tf.keras.preprocessing.image.ImageDataGenerator` is not\n",
            " |  recommended for new code. Prefer loading images with\n",
            " |  `tf.keras.utils.image_dataset_from_directory` and transforming the output\n",
            " |  `tf.data.Dataset` with preprocessing layers. For more information, see the\n",
            " |  tutorials for [loading images](\n",
            " |  https://www.tensorflow.org/tutorials/load_data/images) and\n",
            " |  [augmenting images](\n",
            " |  https://www.tensorflow.org/tutorials/images/data_augmentation), as well as\n",
            " |  the [preprocessing layer guide](\n",
            " |  https://www.tensorflow.org/guide/keras/preprocessing_layers).\n",
            " |  \n",
            " |   The data will be looped over (in batches).\n",
            " |  \n",
            " |  Args:\n",
            " |      featurewise_center: Boolean. Set input mean to 0 over the dataset,\n",
            " |        feature-wise.\n",
            " |      samplewise_center: Boolean. Set each sample mean to 0.\n",
            " |      featurewise_std_normalization: Boolean. Divide inputs by std of the\n",
            " |        dataset, feature-wise.\n",
            " |      samplewise_std_normalization: Boolean. Divide each input by its std.\n",
            " |      zca_epsilon: epsilon for ZCA whitening. Default is 1e-6.\n",
            " |      zca_whitening: Boolean. Apply ZCA whitening.\n",
            " |      rotation_range: Int. Degree range for random rotations.\n",
            " |      width_shift_range: Float, 1-D array-like or int\n",
            " |          - float: fraction of total width, if < 1, or pixels if >= 1.\n",
            " |          - 1-D array-like: random elements from the array.\n",
            " |          - int: integer number of pixels from interval `(-width_shift_range,\n",
            " |            +width_shift_range)` - With `width_shift_range=2` possible values\n",
            " |            are integers `[-1, 0, +1]`, same as with `width_shift_range=[-1,\n",
            " |            0, +1]`, while with `width_shift_range=1.0` possible values are\n",
            " |            floats in the interval [-1.0, +1.0).\n",
            " |      height_shift_range: Float, 1-D array-like or int\n",
            " |          - float: fraction of total height, if < 1, or pixels if >= 1.\n",
            " |          - 1-D array-like: random elements from the array.\n",
            " |          - int: integer number of pixels from interval `(-height_shift_range,\n",
            " |            +height_shift_range)` - With `height_shift_range=2` possible\n",
            " |            values are integers `[-1, 0, +1]`, same as with\n",
            " |            `height_shift_range=[-1, 0, +1]`, while with\n",
            " |            `height_shift_range=1.0` possible values are floats in the\n",
            " |            interval [-1.0, +1.0).\n",
            " |      brightness_range: Tuple or list of two floats. Range for picking a\n",
            " |        brightness shift value from.\n",
            " |      shear_range: Float. Shear Intensity (Shear angle in counter-clockwise\n",
            " |        direction in degrees)\n",
            " |      zoom_range: Float or [lower, upper]. Range for random zoom. If a float,\n",
            " |        `[lower, upper] = [1-zoom_range, 1+zoom_range]`.\n",
            " |      channel_shift_range: Float. Range for random channel shifts.\n",
            " |      fill_mode: One of {\"constant\", \"nearest\", \"reflect\" or \"wrap\"}. Default\n",
            " |        is 'nearest'. Points outside the boundaries of the input are filled\n",
            " |        according to the given mode:\n",
            " |          - 'constant': kkkkkkkk|abcd|kkkkkkkk (cval=k)\n",
            " |          - 'nearest':  aaaaaaaa|abcd|dddddddd\n",
            " |          - 'reflect':  abcddcba|abcd|dcbaabcd\n",
            " |          - 'wrap':  abcdabcd|abcd|abcdabcd\n",
            " |      cval: Float or Int. Value used for points outside the boundaries when\n",
            " |        `fill_mode = \"constant\"`.\n",
            " |      horizontal_flip: Boolean. Randomly flip inputs horizontally.\n",
            " |      vertical_flip: Boolean. Randomly flip inputs vertically.\n",
            " |      rescale: rescaling factor. Defaults to None. If None or 0, no rescaling\n",
            " |        is applied, otherwise we multiply the data by the value provided\n",
            " |        (after applying all other transformations).\n",
            " |      preprocessing_function: function that will be applied on each input. The\n",
            " |        function will run after the image is resized and augmented.\n",
            " |          The function should take one argument: one image (Numpy tensor with\n",
            " |            rank 3), and should output a Numpy tensor with the same shape.\n",
            " |      data_format: Image data format, either \"channels_first\" or\n",
            " |        \"channels_last\". \"channels_last\" mode means that the images should\n",
            " |        have shape `(samples, height, width, channels)`, \"channels_first\" mode\n",
            " |        means that the images should have shape `(samples, channels, height,\n",
            " |        width)`.  It defaults to the `image_data_format` value found in your\n",
            " |        Keras config file at `~/.keras/keras.json`. If you never set it, then\n",
            " |        it will be \"channels_last\".\n",
            " |      validation_split: Float. Fraction of images reserved for validation\n",
            " |        (strictly between 0 and 1).\n",
            " |      dtype: Dtype to use for the generated arrays.\n",
            " |  \n",
            " |  Raises:\n",
            " |    ValueError: If the value of the argument, `data_format` is other than\n",
            " |          `\"channels_last\"` or `\"channels_first\"`.\n",
            " |    ValueError: If the value of the argument, `validation_split` > 1\n",
            " |          or `validation_split` < 0.\n",
            " |  \n",
            " |  Examples:\n",
            " |  \n",
            " |  Example of using `.flow(x, y)`:\n",
            " |  \n",
            " |  ```python\n",
            " |  (x_train, y_train), (x_test, y_test) = cifar10.load_data()\n",
            " |  y_train = utils.to_categorical(y_train, num_classes)\n",
            " |  y_test = utils.to_categorical(y_test, num_classes)\n",
            " |  datagen = ImageDataGenerator(\n",
            " |      featurewise_center=True,\n",
            " |      featurewise_std_normalization=True,\n",
            " |      rotation_range=20,\n",
            " |      width_shift_range=0.2,\n",
            " |      height_shift_range=0.2,\n",
            " |      horizontal_flip=True,\n",
            " |      validation_split=0.2)\n",
            " |  # compute quantities required for featurewise normalization\n",
            " |  # (std, mean, and principal components if ZCA whitening is applied)\n",
            " |  datagen.fit(x_train)\n",
            " |  # fits the model on batches with real-time data augmentation:\n",
            " |  model.fit(datagen.flow(x_train, y_train, batch_size=32,\n",
            " |           subset='training'),\n",
            " |           validation_data=datagen.flow(x_train, y_train,\n",
            " |           batch_size=8, subset='validation'),\n",
            " |           steps_per_epoch=len(x_train) / 32, epochs=epochs)\n",
            " |  # here's a more \"manual\" example\n",
            " |  for e in range(epochs):\n",
            " |      print('Epoch', e)\n",
            " |      batches = 0\n",
            " |      for x_batch, y_batch in datagen.flow(x_train, y_train, batch_size=32):\n",
            " |          model.fit(x_batch, y_batch)\n",
            " |          batches += 1\n",
            " |          if batches >= len(x_train) / 32:\n",
            " |              # we need to break the loop by hand because\n",
            " |              # the generator loops indefinitely\n",
            " |              break\n",
            " |  ```\n",
            " |  \n",
            " |  Example of using `.flow_from_directory(directory)`:\n",
            " |  \n",
            " |  ```python\n",
            " |  train_datagen = ImageDataGenerator(\n",
            " |          rescale=1./255,\n",
            " |          shear_range=0.2,\n",
            " |          zoom_range=0.2,\n",
            " |          horizontal_flip=True)\n",
            " |  test_datagen = ImageDataGenerator(rescale=1./255)\n",
            " |  train_generator = train_datagen.flow_from_directory(\n",
            " |          'data/train',\n",
            " |          target_size=(150, 150),\n",
            " |          batch_size=32,\n",
            " |          class_mode='binary')\n",
            " |  validation_generator = test_datagen.flow_from_directory(\n",
            " |          'data/validation',\n",
            " |          target_size=(150, 150),\n",
            " |          batch_size=32,\n",
            " |          class_mode='binary')\n",
            " |  model.fit(\n",
            " |          train_generator,\n",
            " |          steps_per_epoch=2000,\n",
            " |          epochs=50,\n",
            " |          validation_data=validation_generator,\n",
            " |          validation_steps=800)\n",
            " |  ```\n",
            " |  \n",
            " |  Example of transforming images and masks together.\n",
            " |  \n",
            " |  ```python\n",
            " |  # we create two instances with the same arguments\n",
            " |  data_gen_args = dict(featurewise_center=True,\n",
            " |                       featurewise_std_normalization=True,\n",
            " |                       rotation_range=90,\n",
            " |                       width_shift_range=0.1,\n",
            " |                       height_shift_range=0.1,\n",
            " |                       zoom_range=0.2)\n",
            " |  image_datagen = ImageDataGenerator(**data_gen_args)\n",
            " |  mask_datagen = ImageDataGenerator(**data_gen_args)\n",
            " |  # Provide the same seed and keyword arguments to the fit and flow methods\n",
            " |  seed = 1\n",
            " |  image_datagen.fit(images, augment=True, seed=seed)\n",
            " |  mask_datagen.fit(masks, augment=True, seed=seed)\n",
            " |  image_generator = image_datagen.flow_from_directory(\n",
            " |      'data/images',\n",
            " |      class_mode=None,\n",
            " |      seed=seed)\n",
            " |  mask_generator = mask_datagen.flow_from_directory(\n",
            " |      'data/masks',\n",
            " |      class_mode=None,\n",
            " |      seed=seed)\n",
            " |  # combine generators into one which yields image and masks\n",
            " |  train_generator = zip(image_generator, mask_generator)\n",
            " |  model.fit(\n",
            " |      train_generator,\n",
            " |      steps_per_epoch=2000,\n",
            " |      epochs=50)\n",
            " |  ```\n",
            " |  \n",
            " |  Methods defined here:\n",
            " |  \n",
            " |  __init__(self, featurewise_center=False, samplewise_center=False, featurewise_std_normalization=False, samplewise_std_normalization=False, zca_whitening=False, zca_epsilon=1e-06, rotation_range=0, width_shift_range=0.0, height_shift_range=0.0, brightness_range=None, shear_range=0.0, zoom_range=0.0, channel_shift_range=0.0, fill_mode='nearest', cval=0.0, horizontal_flip=False, vertical_flip=False, rescale=None, preprocessing_function=None, data_format=None, validation_split=0.0, interpolation_order=1, dtype=None)\n",
            " |      Initialize self.  See help(type(self)) for accurate signature.\n",
            " |  \n",
            " |  apply_transform(self, x, transform_parameters)\n",
            " |      Applies a transformation to an image according to given parameters.\n",
            " |      \n",
            " |      Args:\n",
            " |          x: 3D tensor, single image.\n",
            " |          transform_parameters: Dictionary with string - parameter pairs\n",
            " |              describing the transformation.\n",
            " |              Currently, the following parameters\n",
            " |              from the dictionary are used:\n",
            " |              - `'theta'`: Float. Rotation angle in degrees.\n",
            " |              - `'tx'`: Float. Shift in the x direction.\n",
            " |              - `'ty'`: Float. Shift in the y direction.\n",
            " |              - `'shear'`: Float. Shear angle in degrees.\n",
            " |              - `'zx'`: Float. Zoom in the x direction.\n",
            " |              - `'zy'`: Float. Zoom in the y direction.\n",
            " |              - `'flip_horizontal'`: Boolean. Horizontal flip.\n",
            " |              - `'flip_vertical'`: Boolean. Vertical flip.\n",
            " |              - `'channel_shift_intensity'`: Float. Channel shift intensity.\n",
            " |              - `'brightness'`: Float. Brightness shift intensity.\n",
            " |      \n",
            " |      Returns:\n",
            " |          A transformed version of the input (same shape).\n",
            " |  \n",
            " |  fit(self, x, augment=False, rounds=1, seed=None)\n",
            " |      Fits the data generator to some sample data.\n",
            " |      \n",
            " |      This computes the internal data stats related to the\n",
            " |      data-dependent transformations, based on an array of sample data.\n",
            " |      \n",
            " |      Only required if `featurewise_center` or\n",
            " |      `featurewise_std_normalization` or `zca_whitening` are set to True.\n",
            " |      \n",
            " |      When `rescale` is set to a value, rescaling is applied to\n",
            " |      sample data before computing the internal data stats.\n",
            " |      \n",
            " |      Args:\n",
            " |          x: Sample data. Should have rank 4.\n",
            " |           In case of grayscale data,\n",
            " |           the channels axis should have value 1, in case\n",
            " |           of RGB data, it should have value 3, and in case\n",
            " |           of RGBA data, it should have value 4.\n",
            " |          augment: Boolean (default: False).\n",
            " |              Whether to fit on randomly augmented samples.\n",
            " |          rounds: Int (default: 1).\n",
            " |              If using data augmentation (`augment=True`),\n",
            " |              this is how many augmentation passes over the data to use.\n",
            " |          seed: Int (default: None). Random seed.\n",
            " |  \n",
            " |  flow(self, x, y=None, batch_size=32, shuffle=True, sample_weight=None, seed=None, save_to_dir=None, save_prefix='', save_format='png', ignore_class_split=False, subset=None)\n",
            " |      Takes data & label arrays, generates batches of augmented data.\n",
            " |      \n",
            " |      Args:\n",
            " |          x: Input data. Numpy array of rank 4 or a tuple. If tuple, the first\n",
            " |            element should contain the images and the second element another\n",
            " |            numpy array or a list of numpy arrays that gets passed to the\n",
            " |            output without any modifications. Can be used to feed the model\n",
            " |            miscellaneous data along with the images. In case of grayscale\n",
            " |            data, the channels axis of the image array should have value 1, in\n",
            " |            case of RGB data, it should have value 3, and in case of RGBA\n",
            " |            data, it should have value 4.\n",
            " |          y: Labels.\n",
            " |          batch_size: Int (default: 32).\n",
            " |          shuffle: Boolean (default: True).\n",
            " |          sample_weight: Sample weights.\n",
            " |          seed: Int (default: None).\n",
            " |          save_to_dir: None or str (default: None). This allows you to\n",
            " |            optionally specify a directory to which to save the augmented\n",
            " |            pictures being generated (useful for visualizing what you are\n",
            " |            doing).\n",
            " |          save_prefix: Str (default: `''`). Prefix to use for filenames of\n",
            " |            saved pictures (only relevant if `save_to_dir` is set).\n",
            " |          save_format: one of \"png\", \"jpeg\", \"bmp\", \"pdf\", \"ppm\", \"gif\",\n",
            " |            \"tif\", \"jpg\" (only relevant if `save_to_dir` is set). Default:\n",
            " |            \"png\".\n",
            " |          ignore_class_split: Boolean (default: False), ignore difference\n",
            " |            in number of classes in labels across train and validation\n",
            " |            split (useful for non-classification tasks)\n",
            " |          subset: Subset of data (`\"training\"` or `\"validation\"`) if\n",
            " |            `validation_split` is set in `ImageDataGenerator`.\n",
            " |      \n",
            " |      Returns:\n",
            " |          An `Iterator` yielding tuples of `(x, y)`\n",
            " |              where `x` is a numpy array of image data\n",
            " |              (in the case of a single image input) or a list\n",
            " |              of numpy arrays (in the case with\n",
            " |              additional inputs) and `y` is a numpy array\n",
            " |              of corresponding labels. If 'sample_weight' is not None,\n",
            " |              the yielded tuples are of the form `(x, y, sample_weight)`.\n",
            " |              If `y` is None, only the numpy array `x` is returned.\n",
            " |      Raises:\n",
            " |        ValueError: If the Value of the argument, `subset` is other than\n",
            " |              \"training\" or \"validation\".\n",
            " |  \n",
            " |  flow_from_dataframe(self, dataframe, directory=None, x_col='filename', y_col='class', weight_col=None, target_size=(256, 256), color_mode='rgb', classes=None, class_mode='categorical', batch_size=32, shuffle=True, seed=None, save_to_dir=None, save_prefix='', save_format='png', subset=None, interpolation='nearest', validate_filenames=True, **kwargs)\n",
            " |      Takes the dataframe and the path to a directory + generates batches.\n",
            " |      \n",
            " |       The generated batches contain augmented/normalized data.\n",
            " |      \n",
            " |      **A simple tutorial can be found **[here](\n",
            " |                                  http://bit.ly/keras_flow_from_dataframe).\n",
            " |      \n",
            " |      Args:\n",
            " |          dataframe: Pandas dataframe containing the filepaths relative to\n",
            " |              `directory` (or absolute paths if `directory` is None) of the\n",
            " |              images in a string column. It should include other column/s\n",
            " |              depending on the `class_mode`:\n",
            " |              - if `class_mode` is `\"categorical\"` (default value) it must\n",
            " |                  include the `y_col` column with the class/es of each image.\n",
            " |                  Values in column can be string/list/tuple if a single class\n",
            " |                  or list/tuple if multiple classes.\n",
            " |              - if `class_mode` is `\"binary\"` or `\"sparse\"` it must include\n",
            " |                  the given `y_col` column with class values as strings.\n",
            " |              - if `class_mode` is `\"raw\"` or `\"multi_output\"` it should\n",
            " |                  contain the columns specified in `y_col`.\n",
            " |              - if `class_mode` is `\"input\"` or `None` no extra column is\n",
            " |                  needed.\n",
            " |          directory: string, path to the directory to read images from. If\n",
            " |            `None`, data in `x_col` column should be absolute paths.\n",
            " |          x_col: string, column in `dataframe` that contains the filenames (or\n",
            " |            absolute paths if `directory` is `None`).\n",
            " |          y_col: string or list, column/s in `dataframe` that has the target\n",
            " |            data.\n",
            " |          weight_col: string, column in `dataframe` that contains the sample\n",
            " |              weights. Default: `None`.\n",
            " |          target_size: tuple of integers `(height, width)`, default: `(256,\n",
            " |            256)`. The dimensions to which all images found will be resized.\n",
            " |          color_mode: one of \"grayscale\", \"rgb\", \"rgba\". Default: \"rgb\".\n",
            " |            Whether the images will be converted to have 1 or 3 color\n",
            " |            channels.\n",
            " |          classes: optional list of classes (e.g. `['dogs', 'cats']`). Default\n",
            " |            is None. If not provided, the list of classes will be\n",
            " |            automatically inferred from the `y_col`, which will map to the\n",
            " |            label indices, will be alphanumeric). The dictionary containing\n",
            " |            the mapping from class names to class indices can be obtained via\n",
            " |            the attribute `class_indices`.\n",
            " |          class_mode: one of \"binary\", \"categorical\", \"input\", \"multi_output\",\n",
            " |              \"raw\", sparse\" or None. Default: \"categorical\".\n",
            " |              Mode for yielding the targets:\n",
            " |              - `\"binary\"`: 1D numpy array of binary labels,\n",
            " |              - `\"categorical\"`: 2D numpy array of one-hot encoded labels.\n",
            " |                Supports multi-label output.\n",
            " |              - `\"input\"`: images identical to input images (mainly used to\n",
            " |                work with autoencoders),\n",
            " |              - `\"multi_output\"`: list with the values of the different\n",
            " |                columns,\n",
            " |              - `\"raw\"`: numpy array of values in `y_col` column(s),\n",
            " |              - `\"sparse\"`: 1D numpy array of integer labels,\n",
            " |              - `None`, no targets are returned (the generator will only yield\n",
            " |                batches of image data, which is useful to use in\n",
            " |                `model.predict()`).\n",
            " |          batch_size: size of the batches of data (default: 32).\n",
            " |          shuffle: whether to shuffle the data (default: True)\n",
            " |          seed: optional random seed for shuffling and transformations.\n",
            " |          save_to_dir: None or str (default: None). This allows you to\n",
            " |            optionally specify a directory to which to save the augmented\n",
            " |            pictures being generated (useful for visualizing what you are\n",
            " |            doing).\n",
            " |          save_prefix: str. Prefix to use for filenames of saved pictures\n",
            " |            (only relevant if `save_to_dir` is set).\n",
            " |          save_format: one of \"png\", \"jpeg\", \"bmp\", \"pdf\", \"ppm\", \"gif\",\n",
            " |            \"tif\", \"jpg\" (only relevant if `save_to_dir` is set). Default:\n",
            " |            \"png\".\n",
            " |          subset: Subset of data (`\"training\"` or `\"validation\"`) if\n",
            " |            `validation_split` is set in `ImageDataGenerator`.\n",
            " |          interpolation: Interpolation method used to resample the image if\n",
            " |            the target size is different from that of the loaded image.\n",
            " |            Supported methods are `\"nearest\"`, `\"bilinear\"`, and `\"bicubic\"`.\n",
            " |            If PIL version 1.1.3 or newer is installed, `\"lanczos\"` is also\n",
            " |            supported. If PIL version 3.4.0 or newer is installed, `\"box\"` and\n",
            " |            `\"hamming\"` are also supported. By default, `\"nearest\"` is used.\n",
            " |          validate_filenames: Boolean, whether to validate image filenames in\n",
            " |            `x_col`. If `True`, invalid images will be ignored. Disabling this\n",
            " |            option can lead to speed-up in the execution of this function.\n",
            " |            Defaults to `True`.\n",
            " |          **kwargs: legacy arguments for raising deprecation warnings.\n",
            " |      \n",
            " |      Returns:\n",
            " |          A `DataFrameIterator` yielding tuples of `(x, y)`\n",
            " |          where `x` is a numpy array containing a batch\n",
            " |          of images with shape `(batch_size, *target_size, channels)`\n",
            " |          and `y` is a numpy array of corresponding labels.\n",
            " |  \n",
            " |  flow_from_directory(self, directory, target_size=(256, 256), color_mode='rgb', classes=None, class_mode='categorical', batch_size=32, shuffle=True, seed=None, save_to_dir=None, save_prefix='', save_format='png', follow_links=False, subset=None, interpolation='nearest', keep_aspect_ratio=False)\n",
            " |      Takes the path to a directory & generates batches of augmented data.\n",
            " |      \n",
            " |      Args:\n",
            " |          directory: string, path to the target directory. It should contain\n",
            " |            one subdirectory per class. Any PNG, JPG, BMP, PPM or TIF images\n",
            " |            inside each of the subdirectories directory tree will be included\n",
            " |            in the generator. See [this script](\n",
            " |            https://gist.github.com/fchollet/0830affa1f7f19fd47b06d4cf89ed44d)\n",
            " |            for more details.\n",
            " |          target_size: Tuple of integers `(height, width)`, defaults to `(256,\n",
            " |            256)`. The dimensions to which all images found will be resized.\n",
            " |          color_mode: One of \"grayscale\", \"rgb\", \"rgba\". Default: \"rgb\".\n",
            " |            Whether the images will be converted to have 1, 3, or 4 channels.\n",
            " |          classes: Optional list of class subdirectories (e.g. `['dogs',\n",
            " |            'cats']`). Default: None. If not provided, the list of classes\n",
            " |            will be automatically inferred from the subdirectory\n",
            " |            names/structure under `directory`, where each subdirectory will be\n",
            " |            treated as a different class (and the order of the classes, which\n",
            " |            will map to the label indices, will be alphanumeric). The\n",
            " |            dictionary containing the mapping from class names to class\n",
            " |            indices can be obtained via the attribute `class_indices`.\n",
            " |          class_mode: One of \"categorical\", \"binary\", \"sparse\",\n",
            " |              \"input\", or None. Default: \"categorical\".\n",
            " |              Determines the type of label arrays that are returned:\n",
            " |              - \"categorical\" will be 2D one-hot encoded labels,\n",
            " |              - \"binary\" will be 1D binary labels,\n",
            " |                  \"sparse\" will be 1D integer labels,\n",
            " |              - \"input\" will be images identical\n",
            " |                  to input images (mainly used to work with autoencoders).\n",
            " |              - If None, no labels are returned\n",
            " |                (the generator will only yield batches of image data,\n",
            " |                which is useful to use with `model.predict_generator()`).\n",
            " |                Please note that in case of class_mode None,\n",
            " |                the data still needs to reside in a subdirectory\n",
            " |                of `directory` for it to work correctly.\n",
            " |          batch_size: Size of the batches of data (default: 32).\n",
            " |          shuffle: Whether to shuffle the data (default: True) If set to\n",
            " |            False, sorts the data in alphanumeric order.\n",
            " |          seed: Optional random seed for shuffling and transformations.\n",
            " |          save_to_dir: None or str (default: None). This allows you to\n",
            " |            optionally specify a directory to which to save the augmented\n",
            " |            pictures being generated (useful for visualizing what you are\n",
            " |            doing).\n",
            " |          save_prefix: Str. Prefix to use for filenames of saved pictures\n",
            " |            (only relevant if `save_to_dir` is set).\n",
            " |          save_format: one of \"png\", \"jpeg\", \"bmp\", \"pdf\", \"ppm\", \"gif\",\n",
            " |            \"tif\", \"jpg\" (only relevant if `save_to_dir` is set). Default:\n",
            " |            \"png\".\n",
            " |          follow_links: Whether to follow symlinks inside\n",
            " |              class subdirectories (default: False).\n",
            " |          subset: Subset of data (`\"training\"` or `\"validation\"`) if\n",
            " |            `validation_split` is set in `ImageDataGenerator`.\n",
            " |          interpolation: Interpolation method used to resample the image if\n",
            " |            the target size is different from that of the loaded image.\n",
            " |            Supported methods are `\"nearest\"`, `\"bilinear\"`, and `\"bicubic\"`.\n",
            " |            If PIL version 1.1.3 or newer is installed, `\"lanczos\"` is also\n",
            " |            supported. If PIL version 3.4.0 or newer is installed, `\"box\"` and\n",
            " |            `\"hamming\"` are also supported. By default, `\"nearest\"` is used.\n",
            " |          keep_aspect_ratio: Boolean, whether to resize images to a target\n",
            " |            size without aspect ratio distortion. The image is cropped in\n",
            " |            the center with target aspect ratio before resizing.\n",
            " |      \n",
            " |      Returns:\n",
            " |          A `DirectoryIterator` yielding tuples of `(x, y)`\n",
            " |              where `x` is a numpy array containing a batch\n",
            " |              of images with shape `(batch_size, *target_size, channels)`\n",
            " |              and `y` is a numpy array of corresponding labels.\n",
            " |  \n",
            " |  get_random_transform(self, img_shape, seed=None)\n",
            " |      Generates random parameters for a transformation.\n",
            " |      \n",
            " |      Args:\n",
            " |          img_shape: Tuple of integers.\n",
            " |              Shape of the image that is transformed.\n",
            " |          seed: Random seed.\n",
            " |      \n",
            " |      Returns:\n",
            " |          A dictionary containing randomly chosen parameters describing the\n",
            " |          transformation.\n",
            " |  \n",
            " |  random_transform(self, x, seed=None)\n",
            " |      Applies a random transformation to an image.\n",
            " |      \n",
            " |      Args:\n",
            " |          x: 3D tensor, single image.\n",
            " |          seed: Random seed.\n",
            " |      \n",
            " |      Returns:\n",
            " |          A randomly transformed version of the input (same shape).\n",
            " |  \n",
            " |  standardize(self, x)\n",
            " |      Applies the normalization configuration in-place to a batch of\n",
            " |      inputs.\n",
            " |      \n",
            " |      `x` is changed in-place since the function is mainly used internally\n",
            " |      to standardize images and feed them to your network. If a copy of `x`\n",
            " |      would be created instead it would have a significant performance cost.\n",
            " |      If you want to apply this method without changing the input in-place\n",
            " |      you can call the method creating a copy before:\n",
            " |      \n",
            " |      standardize(np.copy(x))\n",
            " |      \n",
            " |      Args:\n",
            " |          x: Batch of inputs to be normalized.\n",
            " |      \n",
            " |      Returns:\n",
            " |          The inputs, normalized.\n",
            " |  \n",
            " |  ----------------------------------------------------------------------\n",
            " |  Data descriptors defined here:\n",
            " |  \n",
            " |  __dict__\n",
            " |      dictionary for instance variables (if defined)\n",
            " |  \n",
            " |  __weakref__\n",
            " |      list of weak references to the object (if defined)\n",
            "\n"
          ]
        }
      ],
      "source": [
        "help(ImageDataGenerator)"
      ]
    },
    {
      "cell_type": "code",
      "execution_count": null,
      "id": "fb8b19fe",
      "metadata": {
        "id": "fb8b19fe"
      },
      "outputs": [],
      "source": [
        "image_gen = ImageDataGenerator(rotation_range=20,\n",
        "                               width_shift_range=0.10,\n",
        "                               height_shift_range=0.10,\n",
        "                               rescale=1/255,\n",
        "                               shear_range=0.1,\n",
        "                               zoom_range=0.1,\n",
        "                               horizontal_flip=True,\n",
        "                               fill_mode='nearest' # Fill in missing pixels with the nearest filled value\n",
        "                              )"
      ]
    },
    {
      "cell_type": "code",
      "execution_count": null,
      "id": "883bbd32",
      "metadata": {
        "id": "883bbd32",
        "outputId": "3655d2c5-55b0-4ff0-fb63-b3fb14c4a891"
      },
      "outputs": [
        {
          "name": "stdout",
          "output_type": "stream",
          "text": [
            "Found 24958 images belonging to 2 classes.\n"
          ]
        },
        {
          "data": {
            "text/plain": [
              "<keras.src.preprocessing.image.DirectoryIterator at 0x7fcc6d549c00>"
            ]
          },
          "execution_count": 18,
          "metadata": {},
          "output_type": "execute_result"
        }
      ],
      "source": [
        "image_gen.flow_from_directory(train_path)"
      ]
    },
    {
      "cell_type": "code",
      "execution_count": null,
      "id": "06705160",
      "metadata": {
        "id": "06705160",
        "outputId": "71aa2955-74cb-4993-b3d3-0c9c35f2129b"
      },
      "outputs": [
        {
          "name": "stdout",
          "output_type": "stream",
          "text": [
            "Found 2600 images belonging to 2 classes.\n"
          ]
        },
        {
          "data": {
            "text/plain": [
              "<keras.src.preprocessing.image.DirectoryIterator at 0x7fcc6bdf7f70>"
            ]
          },
          "execution_count": 19,
          "metadata": {},
          "output_type": "execute_result"
        }
      ],
      "source": [
        "image_gen.flow_from_directory(test_path)"
      ]
    },
    {
      "cell_type": "code",
      "execution_count": null,
      "id": "9f4a2620",
      "metadata": {
        "id": "9f4a2620"
      },
      "outputs": [],
      "source": [
        "model = models.Sequential()\n",
        "model.add(keras.Input(shape=(image_shape)))\n",
        "model.add(layers.Conv2D(filters=32,kernel_size=(3,3),activation='relu',))\n",
        "model.add(layers.MaxPooling2D(pool_size=(2, 2)))\n",
        "\n",
        "model.add(layers.Conv2D(filters=64, kernel_size=(3,3), activation='relu',))\n",
        "model.add(layers.MaxPooling2D(pool_size=(2, 2)))\n",
        "\n",
        "model.add(layers.Conv2D(filters=64, kernel_size=(3,3), activation='relu',))\n",
        "model.add(layers.MaxPooling2D(pool_size=(2, 2)))\n",
        "\n",
        "model.add(layers.Flatten())\n",
        "\n",
        "model.add(layers.Dense(128))\n",
        "model.add(layers.Dense(64,activation='relu'))\n",
        "model.add(layers.Dropout(0.5))\n",
        "model.add(layers.Dense(1,activation='sigmoid'))\n",
        "model.compile(loss='binary_crossentropy',optimizer='adam',metrics=['accuracy'])"
      ]
    },
    {
      "cell_type": "code",
      "execution_count": null,
      "id": "a4910c8e",
      "metadata": {
        "id": "a4910c8e",
        "outputId": "5d6cd657-daf1-4de8-90f5-f4abc71aac19"
      },
      "outputs": [
        {
          "name": "stdout",
          "output_type": "stream",
          "text": [
            "Model: \"sequential_1\"\n",
            "_________________________________________________________________\n",
            " Layer (type)                Output Shape              Param #   \n",
            "=================================================================\n",
            " conv2d_3 (Conv2D)           (None, 128, 128, 32)      896       \n",
            "                                                                 \n",
            " max_pooling2d_3 (MaxPoolin  (None, 64, 64, 32)        0         \n",
            " g2D)                                                            \n",
            "                                                                 \n",
            " conv2d_4 (Conv2D)           (None, 62, 62, 64)        18496     \n",
            "                                                                 \n",
            " max_pooling2d_4 (MaxPoolin  (None, 31, 31, 64)        0         \n",
            " g2D)                                                            \n",
            "                                                                 \n",
            " conv2d_5 (Conv2D)           (None, 29, 29, 64)        36928     \n",
            "                                                                 \n",
            " max_pooling2d_5 (MaxPoolin  (None, 14, 14, 64)        0         \n",
            " g2D)                                                            \n",
            "                                                                 \n",
            " flatten_1 (Flatten)         (None, 12544)             0         \n",
            "                                                                 \n",
            " dense_3 (Dense)             (None, 128)               1605760   \n",
            "                                                                 \n",
            " dense_4 (Dense)             (None, 64)                8256      \n",
            "                                                                 \n",
            " dropout_1 (Dropout)         (None, 64)                0         \n",
            "                                                                 \n",
            " dense_5 (Dense)             (None, 1)                 65        \n",
            "                                                                 \n",
            "=================================================================\n",
            "Total params: 1670401 (6.37 MB)\n",
            "Trainable params: 1670401 (6.37 MB)\n",
            "Non-trainable params: 0 (0.00 Byte)\n",
            "_________________________________________________________________\n"
          ]
        }
      ],
      "source": [
        "model.summary()"
      ]
    },
    {
      "cell_type": "code",
      "execution_count": null,
      "id": "572ef62e",
      "metadata": {
        "id": "572ef62e"
      },
      "outputs": [],
      "source": [
        "batch_size = 16"
      ]
    },
    {
      "cell_type": "code",
      "execution_count": null,
      "id": "43aaa7f7",
      "metadata": {
        "id": "43aaa7f7",
        "outputId": "50c4c7de-c748-41b3-b508-ed805a97d8e4"
      },
      "outputs": [
        {
          "name": "stdout",
          "output_type": "stream",
          "text": [
            "Help on method flow_from_directory in module keras.src.preprocessing.image:\n",
            "\n",
            "flow_from_directory(directory, target_size=(256, 256), color_mode='rgb', classes=None, class_mode='categorical', batch_size=32, shuffle=True, seed=None, save_to_dir=None, save_prefix='', save_format='png', follow_links=False, subset=None, interpolation='nearest', keep_aspect_ratio=False) method of keras.src.preprocessing.image.ImageDataGenerator instance\n",
            "    Takes the path to a directory & generates batches of augmented data.\n",
            "    \n",
            "    Args:\n",
            "        directory: string, path to the target directory. It should contain\n",
            "          one subdirectory per class. Any PNG, JPG, BMP, PPM or TIF images\n",
            "          inside each of the subdirectories directory tree will be included\n",
            "          in the generator. See [this script](\n",
            "          https://gist.github.com/fchollet/0830affa1f7f19fd47b06d4cf89ed44d)\n",
            "          for more details.\n",
            "        target_size: Tuple of integers `(height, width)`, defaults to `(256,\n",
            "          256)`. The dimensions to which all images found will be resized.\n",
            "        color_mode: One of \"grayscale\", \"rgb\", \"rgba\". Default: \"rgb\".\n",
            "          Whether the images will be converted to have 1, 3, or 4 channels.\n",
            "        classes: Optional list of class subdirectories (e.g. `['dogs',\n",
            "          'cats']`). Default: None. If not provided, the list of classes\n",
            "          will be automatically inferred from the subdirectory\n",
            "          names/structure under `directory`, where each subdirectory will be\n",
            "          treated as a different class (and the order of the classes, which\n",
            "          will map to the label indices, will be alphanumeric). The\n",
            "          dictionary containing the mapping from class names to class\n",
            "          indices can be obtained via the attribute `class_indices`.\n",
            "        class_mode: One of \"categorical\", \"binary\", \"sparse\",\n",
            "            \"input\", or None. Default: \"categorical\".\n",
            "            Determines the type of label arrays that are returned:\n",
            "            - \"categorical\" will be 2D one-hot encoded labels,\n",
            "            - \"binary\" will be 1D binary labels,\n",
            "                \"sparse\" will be 1D integer labels,\n",
            "            - \"input\" will be images identical\n",
            "                to input images (mainly used to work with autoencoders).\n",
            "            - If None, no labels are returned\n",
            "              (the generator will only yield batches of image data,\n",
            "              which is useful to use with `model.predict_generator()`).\n",
            "              Please note that in case of class_mode None,\n",
            "              the data still needs to reside in a subdirectory\n",
            "              of `directory` for it to work correctly.\n",
            "        batch_size: Size of the batches of data (default: 32).\n",
            "        shuffle: Whether to shuffle the data (default: True) If set to\n",
            "          False, sorts the data in alphanumeric order.\n",
            "        seed: Optional random seed for shuffling and transformations.\n",
            "        save_to_dir: None or str (default: None). This allows you to\n",
            "          optionally specify a directory to which to save the augmented\n",
            "          pictures being generated (useful for visualizing what you are\n",
            "          doing).\n",
            "        save_prefix: Str. Prefix to use for filenames of saved pictures\n",
            "          (only relevant if `save_to_dir` is set).\n",
            "        save_format: one of \"png\", \"jpeg\", \"bmp\", \"pdf\", \"ppm\", \"gif\",\n",
            "          \"tif\", \"jpg\" (only relevant if `save_to_dir` is set). Default:\n",
            "          \"png\".\n",
            "        follow_links: Whether to follow symlinks inside\n",
            "            class subdirectories (default: False).\n",
            "        subset: Subset of data (`\"training\"` or `\"validation\"`) if\n",
            "          `validation_split` is set in `ImageDataGenerator`.\n",
            "        interpolation: Interpolation method used to resample the image if\n",
            "          the target size is different from that of the loaded image.\n",
            "          Supported methods are `\"nearest\"`, `\"bilinear\"`, and `\"bicubic\"`.\n",
            "          If PIL version 1.1.3 or newer is installed, `\"lanczos\"` is also\n",
            "          supported. If PIL version 3.4.0 or newer is installed, `\"box\"` and\n",
            "          `\"hamming\"` are also supported. By default, `\"nearest\"` is used.\n",
            "        keep_aspect_ratio: Boolean, whether to resize images to a target\n",
            "          size without aspect ratio distortion. The image is cropped in\n",
            "          the center with target aspect ratio before resizing.\n",
            "    \n",
            "    Returns:\n",
            "        A `DirectoryIterator` yielding tuples of `(x, y)`\n",
            "            where `x` is a numpy array containing a batch\n",
            "            of images with shape `(batch_size, *target_size, channels)`\n",
            "            and `y` is a numpy array of corresponding labels.\n",
            "\n"
          ]
        }
      ],
      "source": [
        "help(image_gen.flow_from_directory)"
      ]
    },
    {
      "cell_type": "code",
      "execution_count": null,
      "id": "ef956e4c",
      "metadata": {
        "id": "ef956e4c",
        "outputId": "acbab06c-46c6-4f8a-eec0-8b67a084e48f"
      },
      "outputs": [
        {
          "name": "stdout",
          "output_type": "stream",
          "text": [
            "Found 24958 images belonging to 2 classes.\n"
          ]
        }
      ],
      "source": [
        "train_image_gen = image_gen.flow_from_directory(train_path,\n",
        "                                               target_size=image_shape[:2],\n",
        "                                                color_mode='rgb',\n",
        "                                               batch_size=batch_size,\n",
        "                                               class_mode='binary')"
      ]
    },
    {
      "cell_type": "code",
      "execution_count": null,
      "id": "8def6f7a",
      "metadata": {
        "id": "8def6f7a",
        "outputId": "a3747aef-a0d1-4b94-a2f6-533f08937d89"
      },
      "outputs": [
        {
          "data": {
            "text/plain": [
              "16"
            ]
          },
          "execution_count": 26,
          "metadata": {},
          "output_type": "execute_result"
        }
      ],
      "source": [
        "train_image_gen.batch_size"
      ]
    },
    {
      "cell_type": "code",
      "execution_count": null,
      "id": "dde51c00",
      "metadata": {
        "id": "dde51c00",
        "outputId": "463249fc-f057-4041-dcaa-541b167d048d"
      },
      "outputs": [
        {
          "data": {
            "text/plain": [
              "24958"
            ]
          },
          "execution_count": 27,
          "metadata": {},
          "output_type": "execute_result"
        }
      ],
      "source": [
        "len(train_image_gen.classes)\n"
      ]
    },
    {
      "cell_type": "code",
      "execution_count": null,
      "id": "d664de52",
      "metadata": {
        "id": "d664de52",
        "outputId": "50a27cc0-62b2-4144-a5b2-a64c3d91f510"
      },
      "outputs": [
        {
          "data": {
            "text/plain": [
              "0"
            ]
          },
          "execution_count": 28,
          "metadata": {},
          "output_type": "execute_result"
        }
      ],
      "source": [
        "train_image_gen.total_batches_seen"
      ]
    },
    {
      "cell_type": "code",
      "execution_count": null,
      "id": "3a38102b",
      "metadata": {
        "id": "3a38102b",
        "outputId": "0fec599c-e3f2-4ed6-ed8d-2299b9b1f98f"
      },
      "outputs": [
        {
          "name": "stdout",
          "output_type": "stream",
          "text": [
            "Found 2600 images belonging to 2 classes.\n"
          ]
        }
      ],
      "source": [
        "test_image_gen = image_gen.flow_from_directory(test_path,\n",
        "                                               target_size=image_shape[:2],\n",
        "                                               color_mode='rgb',\n",
        "                                               batch_size=batch_size,\n",
        "                                               class_mode='binary',shuffle=False)"
      ]
    },
    {
      "cell_type": "code",
      "execution_count": null,
      "id": "e6192a7f",
      "metadata": {
        "id": "e6192a7f",
        "outputId": "8502f30c-4824-4488-a076-8689c6f6c973"
      },
      "outputs": [
        {
          "data": {
            "text/plain": [
              "{'parasitized': 0, 'uninfected': 1}"
            ]
          },
          "execution_count": 30,
          "metadata": {},
          "output_type": "execute_result"
        }
      ],
      "source": [
        "train_image_gen.class_indices"
      ]
    },
    {
      "cell_type": "code",
      "execution_count": null,
      "id": "abdbf9d3",
      "metadata": {
        "id": "abdbf9d3",
        "outputId": "fc233a5c-2496-4030-9f70-d7e7af1510ec"
      },
      "outputs": [
        {
          "name": "stdout",
          "output_type": "stream",
          "text": [
            "Epoch 1/5\n",
            "1560/1560 [==============================] - 124s 79ms/step - loss: 0.1713 - accuracy: 0.9486 - val_loss: 0.1652 - val_accuracy: 0.9492\n",
            "Epoch 2/5\n",
            "1560/1560 [==============================] - 122s 78ms/step - loss: 0.1671 - accuracy: 0.9492 - val_loss: 0.1688 - val_accuracy: 0.9492\n",
            "Epoch 3/5\n",
            "1560/1560 [==============================] - 121s 78ms/step - loss: 0.1688 - accuracy: 0.9506 - val_loss: 0.1747 - val_accuracy: 0.9496\n",
            "Epoch 4/5\n",
            "1560/1560 [==============================] - 125s 80ms/step - loss: 0.1641 - accuracy: 0.9512 - val_loss: 0.1786 - val_accuracy: 0.9442\n",
            "Epoch 5/5\n",
            "1560/1560 [==============================] - 124s 80ms/step - loss: 0.1575 - accuracy: 0.9522 - val_loss: 0.1607 - val_accuracy: 0.9473\n"
          ]
        }
      ],
      "source": [
        "results = model.fit(train_image_gen,epochs=5,\n",
        "                              validation_data=test_image_gen\n",
        "                             )"
      ]
    },
    {
      "cell_type": "code",
      "execution_count": null,
      "id": "3f21a021",
      "metadata": {
        "id": "3f21a021"
      },
      "outputs": [],
      "source": [
        "model.save('cell_model.h5')"
      ]
    },
    {
      "cell_type": "code",
      "execution_count": null,
      "id": "d2726c27",
      "metadata": {
        "id": "d2726c27"
      },
      "outputs": [],
      "source": [
        "losses = pd.DataFrame(model.history.history)"
      ]
    },
    {
      "cell_type": "code",
      "execution_count": null,
      "id": "1426f570",
      "metadata": {
        "id": "1426f570",
        "outputId": "f4798d02-accd-4226-b132-b214b1c4d68d"
      },
      "outputs": [
        {
          "data": {
            "text/plain": [
              "<Axes: >"
            ]
          },
          "execution_count": 37,
          "metadata": {},
          "output_type": "execute_result"
        },
        {
          "data": {
            "image/png": "[encoded data removed]",
            "text/plain": [
              "<Figure size 640x480 with 1 Axes>"
            ]
          },
          "metadata": {},
          "output_type": "display_data"
        }
      ],
      "source": [
        "losses[['loss','val_loss']].plot()"
      ]
    },
    {
      "cell_type": "code",
      "execution_count": null,
      "id": "4a551949",
      "metadata": {
        "id": "4a551949",
        "outputId": "20993856-3715-4997-c57d-a7a5d680c7a0"
      },
      "outputs": [
        {
          "data": {
            "text/plain": [
              "['loss', 'accuracy']"
            ]
          },
          "execution_count": 38,
          "metadata": {},
          "output_type": "execute_result"
        }
      ],
      "source": [
        "model.metrics_names"
      ]
    },
    {
      "cell_type": "code",
      "execution_count": null,
      "id": "7949c35f",
      "metadata": {
        "id": "7949c35f",
        "outputId": "e4af2f01-c45c-48ba-a50f-c3a9dc9cf4ee"
      },
      "outputs": [
        {
          "name": "stdout",
          "output_type": "stream",
          "text": [
            "163/163 [==============================] - 12s 73ms/step - loss: 0.1660 - accuracy: 0.9454\n"
          ]
        },
        {
          "data": {
            "text/plain": [
              "[0.16602839529514313, 0.9453846216201782]"
            ]
          },
          "execution_count": 39,
          "metadata": {},
          "output_type": "execute_result"
        }
      ],
      "source": [
        "model.evaluate(test_image_gen)"
      ]
    },
    {
      "cell_type": "code",
      "execution_count": null,
      "id": "17b1abf7",
      "metadata": {
        "id": "17b1abf7",
        "outputId": "f95287f0-3332-4651-c488-5f7a33b6062a"
      },
      "outputs": [
        {
          "name": "stdout",
          "output_type": "stream",
          "text": [
            "163/163 [==============================] - 12s 73ms/step\n"
          ]
        }
      ],
      "source": [
        "pred_probabilities = model.predict(test_image_gen)"
      ]
    },
    {
      "cell_type": "code",
      "execution_count": null,
      "id": "1cf8565d",
      "metadata": {
        "id": "1cf8565d",
        "outputId": "4a0c2086-1402-4d80-acf3-a65cc6928112"
      },
      "outputs": [
        {
          "data": {
            "text/plain": [
              "array([0, 0, 0, ..., 1, 1, 1], dtype=int32)"
            ]
          },
          "execution_count": 41,
          "metadata": {},
          "output_type": "execute_result"
        }
      ],
      "source": [
        "\n",
        "test_image_gen.classes"
      ]
    },
    {
      "cell_type": "code",
      "execution_count": null,
      "id": "549f2b5f",
      "metadata": {
        "id": "549f2b5f"
      },
      "outputs": [],
      "source": [
        "\n",
        "predictions = pred_probabilities > 0.5"
      ]
    },
    {
      "cell_type": "code",
      "execution_count": null,
      "id": "e7e72a8f",
      "metadata": {
        "id": "e7e72a8f",
        "outputId": "ea61bdf2-491a-4eb2-c9d4-9f68fb90d965"
      },
      "outputs": [
        {
          "name": "stdout",
          "output_type": "stream",
          "text": [
            "              precision    recall  f1-score   support\n",
            "\n",
            "           0       0.96      0.93      0.94      1300\n",
            "           1       0.93      0.96      0.95      1300\n",
            "\n",
            "    accuracy                           0.94      2600\n",
            "   macro avg       0.95      0.95      0.94      2600\n",
            "weighted avg       0.95      0.94      0.94      2600\n",
            "\n"
          ]
        }
      ],
      "source": [
        "print(classification_report(test_image_gen.classes,predictions))"
      ]
    },
    {
      "cell_type": "code",
      "execution_count": null,
      "id": "3ca4512b",
      "metadata": {
        "id": "3ca4512b",
        "outputId": "906563a1-d3bc-47a0-f82e-a6e6892cc241"
      },
      "outputs": [
        {
          "data": {
            "text/plain": [
              "array([[1209,   91],\n",
              "       [  52, 1248]])"
            ]
          },
          "execution_count": 45,
          "metadata": {},
          "output_type": "execute_result"
        }
      ],
      "source": [
        "confusion_matrix(test_image_gen.classes,predictions)"
      ]
    },
    {
      "cell_type": "code",
      "execution_count": null,
      "id": "26261edc",
      "metadata": {
        "id": "26261edc"
      },
      "outputs": [],
      "source": [
        "import random"
      ]
    },
    {
      "cell_type": "code",
      "execution_count": null,
      "id": "c345e540",
      "metadata": {
        "id": "c345e540",
        "outputId": "4c1bd383-e0b2-4407-b67f-c6982f4cda77"
      },
      "outputs": [
        {
          "name": "stdout",
          "output_type": "stream",
          "text": [
            "1/1 [==============================] - 0s 142ms/step\n"
          ]
        },
        {
          "data": {
            "image/png": "[encoded data removed]",
            "text/plain": [
              "<Figure size 640x480 with 1 Axes>"
            ]
          },
          "metadata": {},
          "output_type": "display_data"
        }
      ],
      "source": [
        "list_dir=[\"Un Infected\",\"parasitized\"]\n",
        "dir_=(random.choice(list_dir))\n",
        "p_img=imread(train_path+'/'+dir_+'/'+os.listdir(train_path+'/'+dir_)[random.randint(0,100)])\n",
        "img  = tf.convert_to_tensor(np.asarray(p_img))\n",
        "img = tf.image.resize(img,(130,130))\n",
        "img=img.numpy()\n",
        "pred=bool(model.predict(img.reshape(1,130,130,3))<0.5 )\n",
        "plt.title(\"Model prediction: \"+(\"Parasitized\" if pred  else \"Un Infected\")+\"\\nActual Value: \"+str(dir_))\n",
        "plt.axis(\"off\")\n",
        "plt.imshow(img)\n",
        "plt.show()"
      ]
    },
    {
      "cell_type": "code",
      "execution_count": null,
      "id": "b81de831",
      "metadata": {
        "id": "b81de831"
      },
      "outputs": [],
      "source": []
    }
  ],
  "metadata": {
    "kernelspec": {
      "display_name": "Python 3 (ipykernel)",
      "language": "python",
      "name": "python3"
    },
    "language_info": {
      "codemirror_mode": {
        "name": "ipython",
        "version": 3
      },
      "file_extension": ".py",
      "mimetype": "text/x-python",
      "name": "python",
      "nbconvert_exporter": "python",
      "pygments_lexer": "ipython3",
      "version": "3.10.12"
    },
    "colab": {
      "provenance": []
    }
  },
  "nbformat": 4,
  "nbformat_minor": 5
}